{
 "cells": [
  {
   "cell_type": "markdown",
   "metadata": {},
   "source": [
    "# Python Insights - Analisando Dados com Python\n",
    "\n",
    "### Case - Cancelamento de Clientes\n",
    "\n",
    "Você foi contratado por uma empresa com mais de 800 mil clientes para um projeto de Dados. Recentemente a empresa percebeu que da sua base total de clientes, a maioria são clientes inativos, ou seja, que já cancelaram o serviço.\n",
    "\n",
    "Precisando melhorar seus resultados ela quer conseguir entender os principais motivos desses cancelamentos e quais as ações mais eficientes para reduzir esse número.\n",
    "\n",
    "Base de dados e arquivos: https://drive.google.com/drive/folders/1uDesZePdkhiraJmiyeZ-w5tfc8XsNYFZ?usp=drive_link"
   ]
  },
  {
   "cell_type": "code",
   "execution_count": null,
   "metadata": {},
   "outputs": [],
   "source": [
    "#Passo a Passo\n",
    "#Passo 1: Abrir/Importar a base de dados\n",
    "#Passo 2: Visualizar a base de dados com 2 objetivos\n",
    "# entender as informações e encontrar problemas na base de dados\n",
    "#Passo 3: Resolver os problemas da base de dados\n",
    " #informações inuteis\n",
    " #informações no formato errado\n",
    " #informações vazias\n",
    "#Passo 4: Analise inicial quantos clientes cancelaram e a porcentagem destes clientes\n",
    "#Passo 5: Analise detalhada, entender a causa dos cancelamentos\n"
   ]
  },
  {
   "cell_type": "code",
   "execution_count": null,
   "metadata": {},
   "outputs": [],
   "source": [
    "\n",
    "#Passo 1: Abrir/Importar a base de dados\n",
    "#pandas -> importa base\n",
    "#plotly -> criar graficos dinâmicos\n",
    "import pandas as pd #apelido para o pandas\n",
    "\n",
    "tabela = pd.read_csv(\"cancelamentos.csv\") #lendo a base de dados\n",
    "\n",
    "#Passo 2: Visualizar a base de dados com 2 objetivos\n",
    "# entender as informações e encontrar problemas na base de dados\n",
    "\n",
    "#retirando informações inuteis\n",
    "tabela = tabela.drop(columns=\"CustomerID\") #retirando informações inuteis\n",
    "display(tabela)\n",
    "\n",
    "\n",
    "\n",
    "\n"
   ]
  },
  {
   "cell_type": "code",
   "execution_count": null,
   "metadata": {},
   "outputs": [],
   "source": [
    "#Passo 3: Resolver os problemas da base de dados\n",
    " #informações no formato errado\n",
    " #informações vazias\n",
    "\n",
    "display(tabela.info())\n",
    "tabela = tabela.dropna() #exclui linhas vazias de todas as colunas\n",
    "display(tabela.info())\n",
    "#metodo tabela.fill e tabela.fillna para preencher, e o ffill() preenche a celula com o valor anterior\n",
    "\n"
   ]
  },
  {
   "cell_type": "code",
   "execution_count": null,
   "metadata": {},
   "outputs": [],
   "source": [
    "#Passo 4: Analise inicial quantos clientes \n",
    "# cancelaram e a porcentagem destes clientes\n",
    "#contar na coluna cancelou e contar os 1 e os 0\n",
    "\n",
    "display(tabela[\"cancelou\"].value_counts())\n",
    "#em percentual\n",
    "display(tabela[\"cancelou\"].value_counts(normalize=True)) #calcular a proporção!\n",
    "#display(tabela[\"cancelou\"].value_counts(normalize=True).map(\"{:.2%}\".format))"
   ]
  },
  {
   "cell_type": "code",
   "execution_count": null,
   "metadata": {},
   "outputs": [],
   "source": [
    "#Passo 5: Analise detalhada, entender a causa dos \n",
    "# cancelamentos\n",
    "#Entender como cada coluna da base de dados\n",
    "# impacta no cancelamento do cliente.\n",
    "#criando gráficos dinâmicos\n",
    "\n",
    "#Cria e depois exibe\n",
    "import plotly.express as px #importando a lib de gráficos\n",
    "\n",
    "for coluna in tabela.columns: #percorrendo as colunas da base\n",
    "\n",
    "    grafico = px.histogram(tabela, x=coluna, color=\"cancelou\", text_auto=True)\n",
    "\n",
    "    grafico.show() #exibindo gráfico para cada coluna\n",
    "    \n",
    "\n"
   ]
  },
  {
   "cell_type": "code",
   "execution_count": null,
   "metadata": {},
   "outputs": [],
   "source": [
    "# clientes que ligaram mais de 5 callcenter cancelaram\n",
    "    #criar um alerta  ligar pela 4 vez no callcenter\n",
    "# clientes que assinam do mensal cancelaram todos\n",
    "    # vamos dar desconto nos outros contratos\n",
    "# clientes que atrasaram mais de 20 dias cancelaram\n",
    "    # ligar alerta para o time de cobrança quando bater 10 dias de atraso.\n",
    "# resolvendo os problemas, como fica a taxa de cancelamento\n",
    "\n",
    "# call center -> olhar a base excluindo o problema do call center\n",
    "\n",
    "tabela = tabela[tabela[\"ligacoes_callcenter\"] <= 5]\n",
    "display(tabela[\"cancelou\"].value_counts(normalize=True))\n",
    "display(tabela[\"cancelou\"].value_counts(normalize=True).map(\"{:.2%}\".format))\n",
    "\n",
    "#dias de atraso\n",
    "tabela = tabela[tabela[\"dias_atraso\"] <= 20]\n",
    "display(tabela[\"cancelou\"].value_counts(normalize=True))\n",
    "display(tabela[\"cancelou\"].value_counts(normalize=True).map(\"{:.2%}\".format))\n",
    "#duracao_contrato excluindo contratos mensais\n",
    "\n",
    "tabela = tabela[tabela[\"duracao_contrato\"] != \"Monthly\"]\n",
    "display(tabela[\"cancelou\"].value_counts(normalize=True))\n",
    "display(tabela[\"cancelou\"].value_counts(normalize=True).map(\"{:.2%}\".format))"
   ]
  },
  {
   "cell_type": "code",
   "execution_count": null,
   "metadata": {},
   "outputs": [],
   "source": [
    "for coluna in tabela.columns: #percorrendo as colunas da base\n",
    "\n",
    "    grafico = px.histogram(tabela, x=coluna, color=\"cancelou\", text_auto=True)\n",
    "\n",
    "    grafico.show() #exibindo gráfico para cada coluna"
   ]
  }
 ],
 "metadata": {
  "kernelspec": {
   "display_name": "Python 3",
   "language": "python",
   "name": "python3"
  },
  "language_info": {
   "codemirror_mode": {
    "name": "ipython",
    "version": 3
   },
   "file_extension": ".py",
   "mimetype": "text/x-python",
   "name": "python",
   "nbconvert_exporter": "python",
   "pygments_lexer": "ipython3",
   "version": "3.12.4"
  },
  "orig_nbformat": 4
 },
 "nbformat": 4,
 "nbformat_minor": 2
}
